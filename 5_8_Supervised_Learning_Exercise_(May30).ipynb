{
  "nbformat": 4,
  "nbformat_minor": 0,
  "metadata": {
    "kernelspec": {
      "display_name": "Python 3",
      "language": "python",
      "name": "python3"
    },
    "language_info": {
      "codemirror_mode": {
        "name": "ipython",
        "version": 3
      },
      "file_extension": ".py",
      "mimetype": "text/x-python",
      "name": "python",
      "nbconvert_exporter": "python",
      "pygments_lexer": "ipython3",
      "version": "3.6.7"
    },
    "colab": {
      "name": "5_8_Supervised_Learning_Exercise (Apr28).ipynb",
      "provenance": [],
      "collapsed_sections": [],
      "toc_visible": true,
      "include_colab_link": true
    }
  },
  "cells": [
    {
      "cell_type": "markdown",
      "metadata": {
        "id": "view-in-github",
        "colab_type": "text"
      },
      "source": [
        "<a href=\"https://colab.research.google.com/github/anbalaji/datasharing/blob/master/5_8_Supervised_Learning_Exercise_(May30).ipynb\" target=\"_parent\"><img src=\"https://colab.research.google.com/assets/colab-badge.svg\" alt=\"Open In Colab\"/></a>"
      ]
    },
    {
      "cell_type": "code",
      "metadata": {
        "id": "XTFqJsGgAQns"
      },
      "source": [
        "import seaborn as sns\n",
        "\n",
        "# for numerical analysis and data processing\n",
        "import numpy as np\n",
        "import pandas as pd\n",
        "import itertools\n",
        "\n",
        "from IPython.display import Image\n",
        "import warnings\n",
        "warnings.filterwarnings('ignore')\n",
        "\n",
        "# for Machine learning algorithms\n",
        "from sklearn import preprocessing\n",
        "from sklearn.cluster import KMeans\n",
        "from sklearn.manifold import TSNE\n",
        "from sklearn.linear_model import LinearRegression\n",
        "from sklearn.ensemble import RandomForestRegressor\n",
        "from sklearn.neural_network import MLPRegressor\n",
        "from sklearn.metrics import mean_squared_error, mean_absolute_error\n",
        "from scipy.spatial.distance import cdist\n",
        "\n",
        "# for vizualizations\n",
        "%matplotlib inline \n",
        "import matplotlib.pyplot as plt\n",
        "from matplotlib import cm as cm\n",
        "from mpl_toolkits.mplot3d import Axes3D\n",
        "import seaborn as sns\n",
        "\n",
        "import requests\n",
        "from io import StringIO"
      ],
      "execution_count": null,
      "outputs": []
    },
    {
      "cell_type": "code",
      "metadata": {
        "colab": {
          "base_uri": "https://localhost:8080/"
        },
        "id": "5qNFdOg2G41a",
        "outputId": "1565b223-e865-4542-aaa3-54b655bd8cf3"
      },
      "source": [
        "pip install category_encoders"
      ],
      "execution_count": null,
      "outputs": [
        {
          "output_type": "stream",
          "text": [
            "Collecting category_encoders\n",
            "\u001b[?25l  Downloading https://files.pythonhosted.org/packages/44/57/fcef41c248701ee62e8325026b90c432adea35555cbc870aff9cfba23727/category_encoders-2.2.2-py2.py3-none-any.whl (80kB)\n",
            "\r\u001b[K     |████                            | 10kB 9.4MB/s eta 0:00:01\r\u001b[K     |████████▏                       | 20kB 14.1MB/s eta 0:00:01\r\u001b[K     |████████████▏                   | 30kB 10.2MB/s eta 0:00:01\r\u001b[K     |████████████████▎               | 40kB 8.1MB/s eta 0:00:01\r\u001b[K     |████████████████████▎           | 51kB 5.2MB/s eta 0:00:01\r\u001b[K     |████████████████████████▍       | 61kB 5.1MB/s eta 0:00:01\r\u001b[K     |████████████████████████████▍   | 71kB 5.3MB/s eta 0:00:01\r\u001b[K     |████████████████████████████████| 81kB 2.8MB/s \n",
            "\u001b[?25hRequirement already satisfied: numpy>=1.14.0 in /usr/local/lib/python3.7/dist-packages (from category_encoders) (1.19.5)\n",
            "Requirement already satisfied: statsmodels>=0.9.0 in /usr/local/lib/python3.7/dist-packages (from category_encoders) (0.10.2)\n",
            "Requirement already satisfied: pandas>=0.21.1 in /usr/local/lib/python3.7/dist-packages (from category_encoders) (1.1.5)\n",
            "Requirement already satisfied: patsy>=0.5.1 in /usr/local/lib/python3.7/dist-packages (from category_encoders) (0.5.1)\n",
            "Requirement already satisfied: scikit-learn>=0.20.0 in /usr/local/lib/python3.7/dist-packages (from category_encoders) (0.22.2.post1)\n",
            "Requirement already satisfied: scipy>=1.0.0 in /usr/local/lib/python3.7/dist-packages (from category_encoders) (1.4.1)\n",
            "Requirement already satisfied: pytz>=2017.2 in /usr/local/lib/python3.7/dist-packages (from pandas>=0.21.1->category_encoders) (2018.9)\n",
            "Requirement already satisfied: python-dateutil>=2.7.3 in /usr/local/lib/python3.7/dist-packages (from pandas>=0.21.1->category_encoders) (2.8.1)\n",
            "Requirement already satisfied: six in /usr/local/lib/python3.7/dist-packages (from patsy>=0.5.1->category_encoders) (1.15.0)\n",
            "Requirement already satisfied: joblib>=0.11 in /usr/local/lib/python3.7/dist-packages (from scikit-learn>=0.20.0->category_encoders) (1.0.1)\n",
            "Installing collected packages: category-encoders\n",
            "Successfully installed category-encoders-2.2.2\n"
          ],
          "name": "stdout"
        }
      ]
    },
    {
      "cell_type": "markdown",
      "metadata": {
        "id": "ZKzBQ1KZD3uH"
      },
      "source": [
        "See [here](https://mlinfinance.s3-us-west-2.amazonaws.com/Module2-ExploratoryDataAnalysis/SF+LLD+User+Guide+Release+22.pdf) for data definitions published by FreddieMac"
      ]
    },
    {
      "cell_type": "code",
      "metadata": {
        "id": "Uml-tIRoAQn2"
      },
      "source": [
        "df = pd.read_csv('https://mlinfinance.s3-us-west-2.amazonaws.com/Module2-ExploratoryDataAnalysis/sample_orig_2017.txt', sep=('|'), low_memory=False, header=None)"
      ],
      "execution_count": null,
      "outputs": []
    },
    {
      "cell_type": "code",
      "metadata": {
        "id": "mWop9DVKAQn-",
        "colab": {
          "base_uri": "https://localhost:8080/"
        },
        "outputId": "a95b78af-5f80-4b87-fddc-c7ca323cde2d"
      },
      "source": [
        "df.head()\n",
        "\n",
        "print(df.shape)"
      ],
      "execution_count": null,
      "outputs": [
        {
          "output_type": "stream",
          "text": [
            "(50000, 26)\n"
          ],
          "name": "stdout"
        }
      ]
    },
    {
      "cell_type": "code",
      "metadata": {
        "colab": {
          "base_uri": "https://localhost:8080/"
        },
        "id": "Cl9yJaTF4Jea",
        "outputId": "9b3b2058-8dc3-43b3-af06-32857b18aa01"
      },
      "source": [
        "import category_encoders as ce\n",
        "\n",
        "encoder= ce.OrdinalEncoder(\n",
        "                            cols=[2,7,13,14,16,17,19,20,23,24]\n",
        "                                                            \n",
        "                          )\n",
        "\n",
        "df = encoder.fit_transform(df)\n",
        "\n",
        "df.head()\n",
        "\n",
        "print(df.shape)"
      ],
      "execution_count": null,
      "outputs": [
        {
          "output_type": "stream",
          "text": [
            "(50000, 26)\n"
          ],
          "name": "stdout"
        }
      ]
    },
    {
      "cell_type": "code",
      "metadata": {
        "colab": {
          "base_uri": "https://localhost:8080/",
          "height": 232
        },
        "id": "_LcF0uOrvdea",
        "outputId": "6777b2bd-82f9-4ca1-fbb2-2499bbc7ee0a"
      },
      "source": [
        "print(df.shape)\n",
        "\n",
        "#Drop last column as it has only NAN and was inserted for some unknown reason\n",
        "#df = df.drop(25,axis=1)\n",
        "\n",
        "#Drop column 15 s this has only one value and therefore not useful\n",
        "#df = df.drop(15,axis=1)\n",
        "\n",
        "#Fill NAN with -1\n",
        "df = df.fillna(-1)\n",
        "\n",
        "#Print NAN per column\n",
        "df.isna().sum()\n",
        "\n",
        "#Print unique values of column 24\n",
        "#print(df[24].unique() )\n",
        "\n",
        "df.head()"
      ],
      "execution_count": null,
      "outputs": [
        {
          "output_type": "stream",
          "text": [
            "(50000, 26)\n"
          ],
          "name": "stdout"
        },
        {
          "output_type": "execute_result",
          "data": {
            "text/html": [
              "<div>\n",
              "<style scoped>\n",
              "    .dataframe tbody tr th:only-of-type {\n",
              "        vertical-align: middle;\n",
              "    }\n",
              "\n",
              "    .dataframe tbody tr th {\n",
              "        vertical-align: top;\n",
              "    }\n",
              "\n",
              "    .dataframe thead th {\n",
              "        text-align: right;\n",
              "    }\n",
              "</style>\n",
              "<table border=\"1\" class=\"dataframe\">\n",
              "  <thead>\n",
              "    <tr style=\"text-align: right;\">\n",
              "      <th></th>\n",
              "      <th>0</th>\n",
              "      <th>1</th>\n",
              "      <th>2</th>\n",
              "      <th>3</th>\n",
              "      <th>4</th>\n",
              "      <th>5</th>\n",
              "      <th>6</th>\n",
              "      <th>7</th>\n",
              "      <th>8</th>\n",
              "      <th>9</th>\n",
              "      <th>10</th>\n",
              "      <th>11</th>\n",
              "      <th>12</th>\n",
              "      <th>13</th>\n",
              "      <th>14</th>\n",
              "      <th>15</th>\n",
              "      <th>16</th>\n",
              "      <th>17</th>\n",
              "      <th>18</th>\n",
              "      <th>19</th>\n",
              "      <th>20</th>\n",
              "      <th>21</th>\n",
              "      <th>22</th>\n",
              "      <th>23</th>\n",
              "      <th>24</th>\n",
              "      <th>25</th>\n",
              "    </tr>\n",
              "  </thead>\n",
              "  <tbody>\n",
              "    <tr>\n",
              "      <th>0</th>\n",
              "      <td>794</td>\n",
              "      <td>201703</td>\n",
              "      <td>1</td>\n",
              "      <td>204702</td>\n",
              "      <td>24260.0</td>\n",
              "      <td>0</td>\n",
              "      <td>1</td>\n",
              "      <td>1</td>\n",
              "      <td>74</td>\n",
              "      <td>29</td>\n",
              "      <td>129000</td>\n",
              "      <td>74</td>\n",
              "      <td>3.625</td>\n",
              "      <td>1</td>\n",
              "      <td>1</td>\n",
              "      <td>FRM</td>\n",
              "      <td>1</td>\n",
              "      <td>1</td>\n",
              "      <td>68800</td>\n",
              "      <td>1</td>\n",
              "      <td>1</td>\n",
              "      <td>360</td>\n",
              "      <td>2</td>\n",
              "      <td>1</td>\n",
              "      <td>1</td>\n",
              "      <td>-1</td>\n",
              "    </tr>\n",
              "    <tr>\n",
              "      <th>1</th>\n",
              "      <td>776</td>\n",
              "      <td>201703</td>\n",
              "      <td>2</td>\n",
              "      <td>203202</td>\n",
              "      <td>-1.0</td>\n",
              "      <td>0</td>\n",
              "      <td>1</td>\n",
              "      <td>1</td>\n",
              "      <td>50</td>\n",
              "      <td>20</td>\n",
              "      <td>85000</td>\n",
              "      <td>50</td>\n",
              "      <td>3.000</td>\n",
              "      <td>1</td>\n",
              "      <td>1</td>\n",
              "      <td>FRM</td>\n",
              "      <td>2</td>\n",
              "      <td>1</td>\n",
              "      <td>44600</td>\n",
              "      <td>2</td>\n",
              "      <td>2</td>\n",
              "      <td>180</td>\n",
              "      <td>1</td>\n",
              "      <td>1</td>\n",
              "      <td>1</td>\n",
              "      <td>-1</td>\n",
              "    </tr>\n",
              "    <tr>\n",
              "      <th>2</th>\n",
              "      <td>795</td>\n",
              "      <td>201703</td>\n",
              "      <td>1</td>\n",
              "      <td>203202</td>\n",
              "      <td>49180.0</td>\n",
              "      <td>0</td>\n",
              "      <td>1</td>\n",
              "      <td>1</td>\n",
              "      <td>55</td>\n",
              "      <td>26</td>\n",
              "      <td>143000</td>\n",
              "      <td>55</td>\n",
              "      <td>2.750</td>\n",
              "      <td>1</td>\n",
              "      <td>1</td>\n",
              "      <td>FRM</td>\n",
              "      <td>3</td>\n",
              "      <td>1</td>\n",
              "      <td>27200</td>\n",
              "      <td>3</td>\n",
              "      <td>1</td>\n",
              "      <td>180</td>\n",
              "      <td>1</td>\n",
              "      <td>1</td>\n",
              "      <td>1</td>\n",
              "      <td>-1</td>\n",
              "    </tr>\n",
              "    <tr>\n",
              "      <th>3</th>\n",
              "      <td>785</td>\n",
              "      <td>201705</td>\n",
              "      <td>1</td>\n",
              "      <td>204704</td>\n",
              "      <td>-1.0</td>\n",
              "      <td>30</td>\n",
              "      <td>1</td>\n",
              "      <td>1</td>\n",
              "      <td>95</td>\n",
              "      <td>20</td>\n",
              "      <td>258000</td>\n",
              "      <td>95</td>\n",
              "      <td>4.500</td>\n",
              "      <td>1</td>\n",
              "      <td>1</td>\n",
              "      <td>FRM</td>\n",
              "      <td>4</td>\n",
              "      <td>1</td>\n",
              "      <td>74800</td>\n",
              "      <td>4</td>\n",
              "      <td>3</td>\n",
              "      <td>360</td>\n",
              "      <td>2</td>\n",
              "      <td>1</td>\n",
              "      <td>1</td>\n",
              "      <td>-1</td>\n",
              "    </tr>\n",
              "    <tr>\n",
              "      <th>4</th>\n",
              "      <td>758</td>\n",
              "      <td>201703</td>\n",
              "      <td>1</td>\n",
              "      <td>203202</td>\n",
              "      <td>24260.0</td>\n",
              "      <td>0</td>\n",
              "      <td>1</td>\n",
              "      <td>1</td>\n",
              "      <td>80</td>\n",
              "      <td>35</td>\n",
              "      <td>117000</td>\n",
              "      <td>80</td>\n",
              "      <td>3.000</td>\n",
              "      <td>1</td>\n",
              "      <td>1</td>\n",
              "      <td>FRM</td>\n",
              "      <td>1</td>\n",
              "      <td>1</td>\n",
              "      <td>68800</td>\n",
              "      <td>5</td>\n",
              "      <td>1</td>\n",
              "      <td>180</td>\n",
              "      <td>2</td>\n",
              "      <td>1</td>\n",
              "      <td>1</td>\n",
              "      <td>-1</td>\n",
              "    </tr>\n",
              "  </tbody>\n",
              "</table>\n",
              "</div>"
            ],
            "text/plain": [
              "    0       1   2       3        4   5   6   ...  19  20   21  22  23  24  25\n",
              "0  794  201703   1  204702  24260.0   0   1  ...   1   1  360   2   1   1  -1\n",
              "1  776  201703   2  203202     -1.0   0   1  ...   2   2  180   1   1   1  -1\n",
              "2  795  201703   1  203202  49180.0   0   1  ...   3   1  180   1   1   1  -1\n",
              "3  785  201705   1  204704     -1.0  30   1  ...   4   3  360   2   1   1  -1\n",
              "4  758  201703   1  203202  24260.0   0   1  ...   5   1  180   2   1   1  -1\n",
              "\n",
              "[5 rows x 26 columns]"
            ]
          },
          "metadata": {
            "tags": []
          },
          "execution_count": 7
        }
      ]
    },
    {
      "cell_type": "code",
      "metadata": {
        "id": "-ymEGms5AQoI",
        "colab": {
          "base_uri": "https://localhost:8080/",
          "height": 279
        },
        "outputId": "49ecef0d-39af-4102-f255-dfbc4da2e47c"
      },
      "source": [
        "ax = sns.boxplot(x=df[0])"
      ],
      "execution_count": null,
      "outputs": [
        {
          "output_type": "display_data",
          "data": {
            "image/png": "[encoded data removed]",
            "text/plain": [
              "<Figure size 432x288 with 1 Axes>"
            ]
          },
          "metadata": {
            "tags": [],
            "needs_background": "light"
          }
        }
      ]
    },
    {
      "cell_type": "code",
      "metadata": {
        "id": "IWot-YGVAQoP"
      },
      "source": [
        "df=df[df[0]< 2000]"
      ],
      "execution_count": null,
      "outputs": []
    },
    {
      "cell_type": "code",
      "metadata": {
        "id": "ECs1IOJQAQoS",
        "colab": {
          "base_uri": "https://localhost:8080/",
          "height": 296
        },
        "outputId": "77091fae-a53d-44b3-8464-503f000bde4d"
      },
      "source": [
        "ax = sns.boxplot(x=df[0])\n",
        "ax.set(xlabel='Credit scores')"
      ],
      "execution_count": null,
      "outputs": [
        {
          "output_type": "execute_result",
          "data": {
            "text/plain": [
              "[Text(0.5, 0, 'Credit scores')]"
            ]
          },
          "metadata": {
            "tags": []
          },
          "execution_count": 10
        },
        {
          "output_type": "display_data",
          "data": {
            "image/png": "[encoded data removed]",
            "text/plain": [
              "<Figure size 432x288 with 1 Axes>"
            ]
          },
          "metadata": {
            "tags": [],
            "needs_background": "light"
          }
        }
      ]
    },
    {
      "cell_type": "code",
      "metadata": {
        "id": "03jqGtatAQoU"
      },
      "source": [
        "#ax = sns.boxplot(x=df[17], y=df[0], data=df)\n",
        "#ax.set(xlabel='House type', ylabel='Credit scores')"
      ],
      "execution_count": null,
      "outputs": []
    },
    {
      "cell_type": "code",
      "metadata": {
        "id": "-STc5NPsAQoW",
        "colab": {
          "base_uri": "https://localhost:8080/",
          "height": 279
        },
        "outputId": "c05160e4-7f48-449e-be67-ceafb0b24424"
      },
      "source": [
        "ax = sns.scatterplot(x=df[0], y=df[5],\n",
        "...                      hue=df[17], data=df)"
      ],
      "execution_count": null,
      "outputs": [
        {
          "output_type": "display_data",
          "data": {
            "image/png": "[encoded data removed]",
            "text/plain": [
              "<Figure size 432x288 with 1 Axes>"
            ]
          },
          "metadata": {
            "tags": [],
            "needs_background": "light"
          }
        }
      ]
    },
    {
      "cell_type": "code",
      "metadata": {
        "id": "ZjKSiE53AQoa"
      },
      "source": [
        "df=df[df[5]< 999]"
      ],
      "execution_count": null,
      "outputs": []
    },
    {
      "cell_type": "code",
      "metadata": {
        "id": "vlb7StFmAQoc",
        "colab": {
          "base_uri": "https://localhost:8080/",
          "height": 296
        },
        "outputId": "cf5635a2-3342-4e82-bb49-195b8c389e9c"
      },
      "source": [
        "ax = sns.scatterplot(x=df[0], y=df[5],\n",
        "...                      hue=df[17], data=df)\n",
        "ax.set(xlabel='Credit scores', ylabel='% of Loan covered by MI')"
      ],
      "execution_count": null,
      "outputs": [
        {
          "output_type": "execute_result",
          "data": {
            "text/plain": [
              "[Text(0, 0.5, '% of Loan covered by MI'), Text(0.5, 0, 'Credit scores')]"
            ]
          },
          "metadata": {
            "tags": []
          },
          "execution_count": 14
        },
        {
          "output_type": "display_data",
          "data": {
            "image/png": "[encoded data removed]",
            "text/plain": [
              "<Figure size 432x288 with 1 Axes>"
            ]
          },
          "metadata": {
            "tags": [],
            "needs_background": "light"
          }
        }
      ]
    },
    {
      "cell_type": "code",
      "metadata": {
        "id": "zV25n7YjAQoe"
      },
      "source": [
        "import matplotlib.pyplot as plt"
      ],
      "execution_count": null,
      "outputs": []
    },
    {
      "cell_type": "code",
      "metadata": {
        "id": "UIR1gTnlwaSP",
        "colab": {
          "base_uri": "https://localhost:8080/",
          "height": 320
        },
        "outputId": "c5845c17-090b-4d25-b46f-bf77783788b1"
      },
      "source": [
        "plt.title('Type count for features')\n",
        "plt.xlabel('Type')\n",
        "plt.ylabel('Count')\n",
        "df.dtypes.value_counts().sort_values().plot(kind='bar')\n",
        "plt.show()"
      ],
      "execution_count": null,
      "outputs": [
        {
          "output_type": "display_data",
          "data": {
            "image/png": "[encoded data removed]",
            "text/plain": [
              "<Figure size 432x288 with 1 Axes>"
            ]
          },
          "metadata": {
            "tags": [],
            "needs_background": "light"
          }
        }
      ]
    },
    {
      "cell_type": "code",
      "metadata": {
        "id": "RnvWQpumxE6U"
      },
      "source": [
        ""
      ],
      "execution_count": null,
      "outputs": []
    },
    {
      "cell_type": "code",
      "metadata": {
        "id": "VhOW_GpUb_10",
        "colab": {
          "base_uri": "https://localhost:8080/",
          "height": 595
        },
        "outputId": "6abd9fa9-9e86-4b1d-f1f6-92d2e38bd707"
      },
      "source": [
        "from matplotlib import cm as cm\n",
        "\n",
        "def correlation_matrix(df):\n",
        "    fig = plt.figure(figsize = (10,10))\n",
        "    ax1 = fig.add_subplot(111)\n",
        "    cmap = cm.get_cmap('magma')\n",
        "    corr = df.corr()\n",
        "    cax = ax1.imshow(corr, interpolation=\"nearest\", cmap=cmap)\n",
        "    plt.title('Feature Correlation')\n",
        "    labels = df.columns.values\n",
        "    print(labels)\n",
        "    ax1.set_xticklabels(corr.columns,fontsize=10, rotation=90)\n",
        "    ax1.set_yticklabels(corr.columns,fontsize=10)\n",
        "    fig.colorbar(cax)\n",
        "    plt.show()\n",
        "\n",
        "correlation_matrix(df.select_dtypes(include=['float64','int64']))"
      ],
      "execution_count": null,
      "outputs": [
        {
          "output_type": "stream",
          "text": [
            "[ 0  1  2  3  4  5  6  7  8  9 10 11 12 13 14 16 17 18 19 20 21 22 23 24]\n"
          ],
          "name": "stdout"
        },
        {
          "output_type": "display_data",
          "data": {
            "image/png": "[encoded data removed]",
            "text/plain": [
              "<Figure size 720x720 with 2 Axes>"
            ]
          },
          "metadata": {
            "tags": [],
            "needs_background": "light"
          }
        }
      ]
    },
    {
      "cell_type": "code",
      "metadata": {
        "id": "Z6T_qrC8wZhT",
        "colab": {
          "base_uri": "https://localhost:8080/",
          "height": 320
        },
        "outputId": "3a0f4056-aca2-42f8-fca7-22fadf680cc2"
      },
      "source": [
        "plt.title('Type count for features')\n",
        "plt.xlabel('Type')\n",
        "plt.ylabel('Count')\n",
        "df.dtypes.value_counts().sort_values().plot(kind='bar')\n",
        "plt.show()"
      ],
      "execution_count": null,
      "outputs": [
        {
          "output_type": "display_data",
          "data": {
            "image/png": "[encoded data removed]",
            "text/plain": [
              "<Figure size 432x288 with 1 Axes>"
            ]
          },
          "metadata": {
            "tags": [],
            "needs_background": "light"
          }
        }
      ]
    },
    {
      "cell_type": "markdown",
      "metadata": {
        "id": "4HAV2CTQ5Y4w"
      },
      "source": [
        "# Exercises"
      ]
    },
    {
      "cell_type": "markdown",
      "metadata": {
        "id": "KXx7JZW-YiqF"
      },
      "source": [
        ""
      ]
    },
    {
      "cell_type": "markdown",
      "metadata": {
        "id": "1m8TDs685buh"
      },
      "source": [
        "# 1.0 You would like to build a supervised learning algorithm to predict interest rates (Column 12). What features would you use?"
      ]
    },
    {
      "cell_type": "code",
      "metadata": {
        "id": "a1FNqHa95ap-",
        "colab": {
          "base_uri": "https://localhost:8080/",
          "height": 581
        },
        "outputId": "a98630c0-6213-4900-bcfc-2706e7c3cc4a"
      },
      "source": [
        "df = df.select_dtypes(include=['float64','int64'])\n",
        "\n",
        "X = df.iloc[:,0:23]  #independent columns\n",
        "y = df.iloc[:,13]    #target column i.e interest rate\n",
        "\n",
        "df.head()\n",
        "\n",
        "print(df.shape)\n",
        "\n",
        "from sklearn.ensemble import ExtraTreesClassifier\n",
        "import matplotlib.pyplot as plt\n",
        "model = ExtraTreesClassifier()\n",
        "model.fit(X,y)\n",
        "print(model.feature_importances_) #use inbuilt class feature_importances of tree based classifiers\n",
        "#plot graph of feature importances for better visualization\n",
        "feat_importances = pd.Series(model.feature_importances_, index=X.columns)\n",
        "feat_importances.nlargest(10).plot(kind='barh')\n",
        "plt.show()\n",
        "\n",
        "df.head()\n"
      ],
      "execution_count": null,
      "outputs": [
        {
          "output_type": "stream",
          "text": [
            "(49993, 24)\n",
            "[4.37693078e-03 3.80964102e-03 6.64712449e-03 6.82667370e-03\n",
            " 4.82710866e-03 3.16374221e-03 7.34166204e-04 1.64951079e-03\n",
            " 3.52707043e-03 4.15158184e-03 6.27545854e-03 3.53484813e-03\n",
            " 4.80457027e-03 8.41657823e-01 8.08053655e-05 5.20317427e-03\n",
            " 2.70314671e-03 6.51786982e-03 7.07794171e-03 5.10890520e-03\n",
            " 5.10770903e-03 2.07366727e-03 7.01405308e-02]\n"
          ],
          "name": "stdout"
        },
        {
          "output_type": "display_data",
          "data": {
            "image/png": "[encoded data removed]",
            "text/plain": [
              "<Figure size 432x288 with 1 Axes>"
            ]
          },
          "metadata": {
            "tags": [],
            "needs_background": "light"
          }
        },
        {
          "output_type": "execute_result",
          "data": {
            "text/html": [
              "<div>\n",
              "<style scoped>\n",
              "    .dataframe tbody tr th:only-of-type {\n",
              "        vertical-align: middle;\n",
              "    }\n",
              "\n",
              "    .dataframe tbody tr th {\n",
              "        vertical-align: top;\n",
              "    }\n",
              "\n",
              "    .dataframe thead th {\n",
              "        text-align: right;\n",
              "    }\n",
              "</style>\n",
              "<table border=\"1\" class=\"dataframe\">\n",
              "  <thead>\n",
              "    <tr style=\"text-align: right;\">\n",
              "      <th></th>\n",
              "      <th>0</th>\n",
              "      <th>1</th>\n",
              "      <th>2</th>\n",
              "      <th>3</th>\n",
              "      <th>4</th>\n",
              "      <th>5</th>\n",
              "      <th>6</th>\n",
              "      <th>7</th>\n",
              "      <th>8</th>\n",
              "      <th>9</th>\n",
              "      <th>10</th>\n",
              "      <th>11</th>\n",
              "      <th>12</th>\n",
              "      <th>13</th>\n",
              "      <th>14</th>\n",
              "      <th>16</th>\n",
              "      <th>17</th>\n",
              "      <th>18</th>\n",
              "      <th>19</th>\n",
              "      <th>20</th>\n",
              "      <th>21</th>\n",
              "      <th>22</th>\n",
              "      <th>23</th>\n",
              "      <th>24</th>\n",
              "    </tr>\n",
              "  </thead>\n",
              "  <tbody>\n",
              "    <tr>\n",
              "      <th>0</th>\n",
              "      <td>794</td>\n",
              "      <td>201703</td>\n",
              "      <td>1</td>\n",
              "      <td>204702</td>\n",
              "      <td>24260.0</td>\n",
              "      <td>0</td>\n",
              "      <td>1</td>\n",
              "      <td>1</td>\n",
              "      <td>74</td>\n",
              "      <td>29</td>\n",
              "      <td>129000</td>\n",
              "      <td>74</td>\n",
              "      <td>3.625</td>\n",
              "      <td>1</td>\n",
              "      <td>1</td>\n",
              "      <td>1</td>\n",
              "      <td>1</td>\n",
              "      <td>68800</td>\n",
              "      <td>1</td>\n",
              "      <td>1</td>\n",
              "      <td>360</td>\n",
              "      <td>2</td>\n",
              "      <td>1</td>\n",
              "      <td>1</td>\n",
              "    </tr>\n",
              "    <tr>\n",
              "      <th>1</th>\n",
              "      <td>776</td>\n",
              "      <td>201703</td>\n",
              "      <td>2</td>\n",
              "      <td>203202</td>\n",
              "      <td>-1.0</td>\n",
              "      <td>0</td>\n",
              "      <td>1</td>\n",
              "      <td>1</td>\n",
              "      <td>50</td>\n",
              "      <td>20</td>\n",
              "      <td>85000</td>\n",
              "      <td>50</td>\n",
              "      <td>3.000</td>\n",
              "      <td>1</td>\n",
              "      <td>1</td>\n",
              "      <td>2</td>\n",
              "      <td>1</td>\n",
              "      <td>44600</td>\n",
              "      <td>2</td>\n",
              "      <td>2</td>\n",
              "      <td>180</td>\n",
              "      <td>1</td>\n",
              "      <td>1</td>\n",
              "      <td>1</td>\n",
              "    </tr>\n",
              "    <tr>\n",
              "      <th>2</th>\n",
              "      <td>795</td>\n",
              "      <td>201703</td>\n",
              "      <td>1</td>\n",
              "      <td>203202</td>\n",
              "      <td>49180.0</td>\n",
              "      <td>0</td>\n",
              "      <td>1</td>\n",
              "      <td>1</td>\n",
              "      <td>55</td>\n",
              "      <td>26</td>\n",
              "      <td>143000</td>\n",
              "      <td>55</td>\n",
              "      <td>2.750</td>\n",
              "      <td>1</td>\n",
              "      <td>1</td>\n",
              "      <td>3</td>\n",
              "      <td>1</td>\n",
              "      <td>27200</td>\n",
              "      <td>3</td>\n",
              "      <td>1</td>\n",
              "      <td>180</td>\n",
              "      <td>1</td>\n",
              "      <td>1</td>\n",
              "      <td>1</td>\n",
              "    </tr>\n",
              "    <tr>\n",
              "      <th>3</th>\n",
              "      <td>785</td>\n",
              "      <td>201705</td>\n",
              "      <td>1</td>\n",
              "      <td>204704</td>\n",
              "      <td>-1.0</td>\n",
              "      <td>30</td>\n",
              "      <td>1</td>\n",
              "      <td>1</td>\n",
              "      <td>95</td>\n",
              "      <td>20</td>\n",
              "      <td>258000</td>\n",
              "      <td>95</td>\n",
              "      <td>4.500</td>\n",
              "      <td>1</td>\n",
              "      <td>1</td>\n",
              "      <td>4</td>\n",
              "      <td>1</td>\n",
              "      <td>74800</td>\n",
              "      <td>4</td>\n",
              "      <td>3</td>\n",
              "      <td>360</td>\n",
              "      <td>2</td>\n",
              "      <td>1</td>\n",
              "      <td>1</td>\n",
              "    </tr>\n",
              "    <tr>\n",
              "      <th>4</th>\n",
              "      <td>758</td>\n",
              "      <td>201703</td>\n",
              "      <td>1</td>\n",
              "      <td>203202</td>\n",
              "      <td>24260.0</td>\n",
              "      <td>0</td>\n",
              "      <td>1</td>\n",
              "      <td>1</td>\n",
              "      <td>80</td>\n",
              "      <td>35</td>\n",
              "      <td>117000</td>\n",
              "      <td>80</td>\n",
              "      <td>3.000</td>\n",
              "      <td>1</td>\n",
              "      <td>1</td>\n",
              "      <td>1</td>\n",
              "      <td>1</td>\n",
              "      <td>68800</td>\n",
              "      <td>5</td>\n",
              "      <td>1</td>\n",
              "      <td>180</td>\n",
              "      <td>2</td>\n",
              "      <td>1</td>\n",
              "      <td>1</td>\n",
              "    </tr>\n",
              "  </tbody>\n",
              "</table>\n",
              "</div>"
            ],
            "text/plain": [
              "    0       1   2       3        4   5   6   ...     18  19  20   21  22  23  24\n",
              "0  794  201703   1  204702  24260.0   0   1  ...  68800   1   1  360   2   1   1\n",
              "1  776  201703   2  203202     -1.0   0   1  ...  44600   2   2  180   1   1   1\n",
              "2  795  201703   1  203202  49180.0   0   1  ...  27200   3   1  180   1   1   1\n",
              "3  785  201705   1  204704     -1.0  30   1  ...  74800   4   3  360   2   1   1\n",
              "4  758  201703   1  203202  24260.0   0   1  ...  68800   5   1  180   2   1   1\n",
              "\n",
              "[5 rows x 24 columns]"
            ]
          },
          "metadata": {
            "tags": []
          },
          "execution_count": 19
        }
      ]
    },
    {
      "cell_type": "markdown",
      "metadata": {
        "id": "tN08OHs7Yn0V"
      },
      "source": [
        "Storing interest rate statistics which will be used later for inference. "
      ]
    },
    {
      "cell_type": "code",
      "metadata": {
        "id": "Jp_hXxm2Yutm",
        "colab": {
          "base_uri": "https://localhost:8080/"
        },
        "outputId": "da0d6769-a802-43cd-e56d-16092b578555"
      },
      "source": [
        "min_rate= df[12].min()\n",
        "max_rate= df[12].max()\n",
        "print(min_rate, max_rate, max_rate- min_rate)"
      ],
      "execution_count": null,
      "outputs": [
        {
          "output_type": "stream",
          "text": [
            "2.25 6.125 3.875\n"
          ],
          "name": "stdout"
        }
      ]
    },
    {
      "cell_type": "code",
      "metadata": {
        "id": "KEQ0BIZuMlW1"
      },
      "source": [
        "df=(df-df.min())/(df.max()-df.min())"
      ],
      "execution_count": null,
      "outputs": []
    },
    {
      "cell_type": "code",
      "metadata": {
        "id": "izbEFANJMmSy"
      },
      "source": [
        "df = df.iloc[np.random.permutation(len(df))]"
      ],
      "execution_count": null,
      "outputs": []
    },
    {
      "cell_type": "code",
      "metadata": {
        "id": "BjRJN5hoMmcp"
      },
      "source": [
        "#y = df.iloc[:,df.columns.isin([\"int_rate\"])]\n",
        "#x = df.loc[:, ~df.columns.isin([\"int_rate\"])]\n",
        "\n",
        "y = df.iloc[:,[12]].copy()\n",
        "x = df.loc[:, [0,1,2,3,4,5,6,7,8,9,10,11,13,14,16,17,18,19,20,21,22,23,24]].copy()\n",
        "\n",
        "total_samples=len(df)\n",
        "split = 0.8\n",
        "\n",
        "x_train = x[0:int(total_samples*split)]\n",
        "x_test = x[int(total_samples*split):total_samples]\n",
        "y_train = y[0:int(total_samples*split)]\n",
        "y_test = y[int(total_samples*split):total_samples]\n",
        "\n",
        "#x.head()\n",
        "#y.head()"
      ],
      "execution_count": null,
      "outputs": []
    },
    {
      "cell_type": "code",
      "metadata": {
        "id": "icwpKfIwMmm9"
      },
      "source": [
        "def mean_absolute_percentage_error(y_true, y_pred): \n",
        "    '''\n",
        "    Calculates mean absolute error of the true and predicted values.\n",
        "    '''\n",
        "    y_true, y_pred = np.array(y_true), np.array(y_pred)\n",
        "    count = 0\n",
        "    sum = 0\n",
        "    for a, p in zip(y_true, y_pred):\n",
        "        if(a!=0):\n",
        "            sum+=(abs(a-p)/a)\n",
        "            count+=1\n",
        "    return (sum/count) * 100"
      ],
      "execution_count": null,
      "outputs": []
    },
    {
      "cell_type": "code",
      "metadata": {
        "id": "YH0zIwvDMmvx"
      },
      "source": [
        "def view_metrics(y_test, predictions, algorithm, samples, total_samples):\n",
        "    '''\n",
        "    Plots the true and predicted values and prints RMS, MAE and MAPE metrics.\n",
        "    '''\n",
        "    fig = plt.figure(figsize=(18,5))\n",
        "    plt.scatter(x=[i for i in range(samples)], y=[x for x in predictions[0:samples]], label='Predicted values')\n",
        "    plt.scatter(x=[i for i in range(samples)], y=[x[0] for x in y_test.values[0:samples]], label='True values')\n",
        "    plt.title('True and Predicted values for test dataset - %s' % algorithm)\n",
        "    plt.legend()\n",
        "    plt.show()\n",
        "    \n",
        "#     fig = plt.figure(figsize=(18,5))\n",
        "#     plt.scatter(x=[i for i in range(total_samples)], y=[x for x in predictions], label='Predicted values')\n",
        "#     plt.scatter(x=[i for i in range(total_samples)], y=[x[0] for x in y_test.values], label='True values')\n",
        "#     plt.title('True and Predicted values for test dataset - %s' % algorithm)\n",
        "#     plt.legend()\n",
        "#     plt.show()\n",
        "\n",
        "    RMS =  np.sqrt(mean_squared_error(y_test, predictions, multioutput='raw_values'))\n",
        "    MAE = mean_absolute_error(y_test, predictions, multioutput='raw_values')\n",
        "    MAPE = mean_absolute_percentage_error(y_test, predictions)\n",
        "    print(\"Root Mean Squared Error:\", RMS)\n",
        "    print(\"Mean Absolute Error\", MAE) \n",
        "    print(\"Mean Absolute Percentage Error\", MAPE)\n",
        "    return RMS, MAE, MAPE"
      ],
      "execution_count": null,
      "outputs": []
    },
    {
      "cell_type": "markdown",
      "metadata": {
        "id": "463Knyw55rK4"
      },
      "source": [
        "# 2.0 Try using Regression, Random Forest and Neural Networks. \n",
        "* Which performance metric would you use?\n",
        "* Do hyper-parameter tuning. Does the model improve?\n",
        "* Which algorithm works best?"
      ]
    },
    {
      "cell_type": "markdown",
      "metadata": {
        "id": "mTmWFqfY4tYf"
      },
      "source": [
        "### Linear Regression"
      ]
    },
    {
      "cell_type": "code",
      "metadata": {
        "colab": {
          "base_uri": "https://localhost:8080/"
        },
        "id": "9f2oyVXgMxNL",
        "outputId": "cf01222c-e8eb-4756-8175-730907a3c399"
      },
      "source": [
        "lin_reg_model = LinearRegression() # build model\n",
        "lin_reg_model= lin_reg_model.fit(x_train, y_train) # train model\n",
        "R2 = lin_reg_model.score(x_train, y_train) # coefficient of determination\n",
        "print(lin_reg_model.coef_)"
      ],
      "execution_count": null,
      "outputs": [
        {
          "output_type": "stream",
          "text": [
            "[[-0.16955018  0.01472943 -0.03565793  0.44667398  0.01738    -0.00204733\n",
            "   0.13139424  0.06659231  0.2653442   0.158481   -0.11026636  0.39691948\n",
            "   0.00646409  0.05878321  0.00319126  0.00120301  0.02001434 -0.07525904\n",
            "  -0.0475785  -0.16027942 -0.00784632 -0.00785295  0.01882596]]\n"
          ],
          "name": "stdout"
        }
      ]
    },
    {
      "cell_type": "code",
      "metadata": {
        "colab": {
          "base_uri": "https://localhost:8080/"
        },
        "id": "dg-Tms6DMxXN",
        "outputId": "1c3bec7b-c190-4ecd-dd71-563019f76853"
      },
      "source": [
        "lin_reg_model_predictions = lin_reg_model.predict(x_test) # make predictions\n",
        "\n",
        "print(lin_reg_model_predictions.shape)\n",
        "print(y_test.shape)\n",
        "\n",
        "#type(lin_reg_model_predictions)\n",
        "type(y_test)\n",
        "\n",
        "#print(lin_reg_model_predictions)\n",
        "#print(y_test-lin_reg_model_predictions)\n"
      ],
      "execution_count": null,
      "outputs": [
        {
          "output_type": "stream",
          "text": [
            "(9999, 1)\n",
            "(9999, 1)\n"
          ],
          "name": "stdout"
        },
        {
          "output_type": "execute_result",
          "data": {
            "text/plain": [
              "pandas.core.frame.DataFrame"
            ]
          },
          "metadata": {
            "tags": []
          },
          "execution_count": 27
        }
      ]
    },
    {
      "cell_type": "code",
      "metadata": {
        "colab": {
          "base_uri": "https://localhost:8080/",
          "height": 330
        },
        "id": "TNGYLWvYMxf5",
        "outputId": "adf5bd86-5444-4027-83e5-592fd1ab8f5f"
      },
      "source": [
        "lin_reg_model_metrics = view_metrics(y_test, lin_reg_model_predictions,'Linear Regression', samples = 50, total_samples=9999)\n",
        "## If predicted value is same as true value, the points will be overlapping. Closer the points, better is the prediction."
      ],
      "execution_count": null,
      "outputs": [
        {
          "output_type": "display_data",
          "data": {
            "image/png": "[encoded data removed]",
            "text/plain": [
              "<Figure size 1296x360 with 1 Axes>"
            ]
          },
          "metadata": {
            "tags": [],
            "needs_background": "light"
          }
        },
        {
          "output_type": "stream",
          "text": [
            "Root Mean Squared Error: [0.07662843]\n",
            "Mean Absolute Error [0.05917406]\n",
            "Mean Absolute Percentage Error [13.01890068]\n"
          ],
          "name": "stdout"
        }
      ]
    },
    {
      "cell_type": "markdown",
      "metadata": {
        "id": "7U8TiJnX46Zt"
      },
      "source": [
        "### Random Forest Regressor Model"
      ]
    },
    {
      "cell_type": "code",
      "metadata": {
        "id": "1zNT22rvMxjV"
      },
      "source": [
        "rand_forest_model = RandomForestRegressor(max_depth=5, random_state=0) # build model\n",
        "rand_forest_model = rand_forest_model.fit(x_train, y_train.values.ravel()) # train model\n",
        "RandomForestRegressor(bootstrap=True, criterion='mse', max_depth=5,\n",
        "           max_features='auto', max_leaf_nodes=None,\n",
        "           min_impurity_decrease=0.0, min_impurity_split=None,\n",
        "           min_samples_leaf=1, min_samples_split=2,\n",
        "           min_weight_fraction_leaf=0.0, n_estimators=10, n_jobs=1,\n",
        "           oob_score=False, random_state=0, verbose=0, warm_start=False)\n",
        "feature_importance = rand_forest_model.feature_importances_\n",
        "R2 = rand_forest_model.score(x_train, y_train) # coefficient of determination\n",
        "rand_forest_model_predictions = rand_forest_model.predict(x_test) # make predictions"
      ],
      "execution_count": null,
      "outputs": []
    },
    {
      "cell_type": "code",
      "metadata": {
        "id": "jV-OHB41MQto",
        "colab": {
          "base_uri": "https://localhost:8080/",
          "height": 330
        },
        "outputId": "a2928f7b-0511-48c7-99f0-94e40ec8d9de"
      },
      "source": [
        "rand_forest_model_metrics = view_metrics(y_test, rand_forest_model_predictions,'Random Forest Regressor', samples = 50, total_samples=2000)"
      ],
      "execution_count": null,
      "outputs": [
        {
          "output_type": "display_data",
          "data": {
            "image/png": "[encoded data removed]",
            "text/plain": [
              "<Figure size 1296x360 with 1 Axes>"
            ]
          },
          "metadata": {
            "tags": [],
            "needs_background": "light"
          }
        },
        {
          "output_type": "stream",
          "text": [
            "Root Mean Squared Error: [0.07043491]\n",
            "Mean Absolute Error [0.0541295]\n",
            "Mean Absolute Percentage Error [11.96285143]\n"
          ],
          "name": "stdout"
        }
      ]
    },
    {
      "cell_type": "markdown",
      "metadata": {
        "id": "BkrwbK3pYsgv"
      },
      "source": [
        "### Neural Network Regression Model"
      ]
    },
    {
      "cell_type": "code",
      "metadata": {
        "id": "QgmF_jQV5uRT",
        "colab": {
          "base_uri": "https://localhost:8080/"
        },
        "outputId": "0a69bd49-05f4-4fc9-ec0f-00bcc09df8b6"
      },
      "source": [
        "nn_model = MLPRegressor(hidden_layer_sizes=(10,4),\n",
        "                                    activation='relu', # activation function in the nodes of the neral net\n",
        "                                    solver='adam', # optimizer algorithm\n",
        "                                    learning_rate='constant',\n",
        "                                    learning_rate_init=0.001, # initial learning rate\n",
        "                                    max_iter=300, # max iterations to train for\n",
        "                                    tol = -1, # tolerance for when to stop training should be range 0.001 to 0.0000001, -1 for max_iter\n",
        "                                    shuffle=True,\n",
        "                                    verbose=True) # show details at each iteration\n",
        "nn_model = nn_model.fit(x_train, y_train.values.ravel())"
      ],
      "execution_count": null,
      "outputs": [
        {
          "output_type": "stream",
          "text": [
            "Iteration 1, loss = 0.10254614\n",
            "Iteration 2, loss = 0.01858334\n",
            "Iteration 3, loss = 0.01086897\n",
            "Iteration 4, loss = 0.00769501\n",
            "Iteration 5, loss = 0.00621770\n",
            "Iteration 6, loss = 0.00528008\n",
            "Iteration 7, loss = 0.00457093\n",
            "Iteration 8, loss = 0.00401589\n",
            "Iteration 9, loss = 0.00358653\n",
            "Iteration 10, loss = 0.00326493\n",
            "Iteration 11, loss = 0.00304227\n",
            "Iteration 12, loss = 0.00290497\n",
            "Iteration 13, loss = 0.00281029\n",
            "Iteration 14, loss = 0.00274702\n",
            "Iteration 15, loss = 0.00270137\n",
            "Iteration 16, loss = 0.00267068\n",
            "Iteration 17, loss = 0.00264385\n",
            "Iteration 18, loss = 0.00262271\n",
            "Iteration 19, loss = 0.00260538\n",
            "Iteration 20, loss = 0.00258792\n",
            "Iteration 21, loss = 0.00258679\n",
            "Iteration 22, loss = 0.00256293\n",
            "Iteration 23, loss = 0.00256116\n",
            "Iteration 24, loss = 0.00255326\n",
            "Iteration 25, loss = 0.00254366\n",
            "Iteration 26, loss = 0.00253570\n",
            "Iteration 27, loss = 0.00253878\n",
            "Iteration 28, loss = 0.00252800\n",
            "Iteration 29, loss = 0.00252017\n",
            "Iteration 30, loss = 0.00251563\n",
            "Iteration 31, loss = 0.00250955\n",
            "Iteration 32, loss = 0.00250450\n",
            "Iteration 33, loss = 0.00248969\n",
            "Iteration 34, loss = 0.00249322\n",
            "Iteration 35, loss = 0.00247941\n",
            "Iteration 36, loss = 0.00248335\n",
            "Iteration 37, loss = 0.00246519\n",
            "Iteration 38, loss = 0.00245345\n",
            "Iteration 39, loss = 0.00245065\n",
            "Iteration 40, loss = 0.00244256\n",
            "Iteration 41, loss = 0.00242865\n",
            "Iteration 42, loss = 0.00243096\n",
            "Iteration 43, loss = 0.00243280\n",
            "Iteration 44, loss = 0.00241938\n",
            "Iteration 45, loss = 0.00241001\n",
            "Iteration 46, loss = 0.00241478\n",
            "Iteration 47, loss = 0.00240530\n",
            "Iteration 48, loss = 0.00240984\n",
            "Iteration 49, loss = 0.00240783\n",
            "Iteration 50, loss = 0.00241139\n",
            "Iteration 51, loss = 0.00240342\n",
            "Iteration 52, loss = 0.00239017\n",
            "Iteration 53, loss = 0.00238800\n",
            "Iteration 54, loss = 0.00238485\n",
            "Iteration 55, loss = 0.00239907\n",
            "Iteration 56, loss = 0.00238723\n",
            "Iteration 57, loss = 0.00237898\n",
            "Iteration 58, loss = 0.00237802\n",
            "Iteration 59, loss = 0.00237193\n",
            "Iteration 60, loss = 0.00237264\n",
            "Iteration 61, loss = 0.00237827\n",
            "Iteration 62, loss = 0.00236865\n",
            "Iteration 63, loss = 0.00236836\n",
            "Iteration 64, loss = 0.00236746\n",
            "Iteration 65, loss = 0.00237688\n",
            "Iteration 66, loss = 0.00236737\n",
            "Iteration 67, loss = 0.00236429\n",
            "Iteration 68, loss = 0.00237305\n",
            "Iteration 69, loss = 0.00237182\n",
            "Iteration 70, loss = 0.00236825\n",
            "Iteration 71, loss = 0.00236290\n",
            "Iteration 72, loss = 0.00236349\n",
            "Iteration 73, loss = 0.00236551\n",
            "Iteration 74, loss = 0.00237843\n",
            "Iteration 75, loss = 0.00236576\n",
            "Iteration 76, loss = 0.00236498\n",
            "Iteration 77, loss = 0.00236875\n",
            "Iteration 78, loss = 0.00235918\n",
            "Iteration 79, loss = 0.00237255\n",
            "Iteration 80, loss = 0.00237055\n",
            "Iteration 81, loss = 0.00236281\n",
            "Iteration 82, loss = 0.00235730\n",
            "Iteration 83, loss = 0.00235748\n",
            "Iteration 84, loss = 0.00235510\n",
            "Iteration 85, loss = 0.00236157\n",
            "Iteration 86, loss = 0.00235483\n",
            "Iteration 87, loss = 0.00236291\n",
            "Iteration 88, loss = 0.00235879\n",
            "Iteration 89, loss = 0.00235919\n",
            "Iteration 90, loss = 0.00236112\n",
            "Iteration 91, loss = 0.00236199\n",
            "Iteration 92, loss = 0.00236138\n",
            "Iteration 93, loss = 0.00236151\n",
            "Iteration 94, loss = 0.00235657\n",
            "Iteration 95, loss = 0.00235789\n",
            "Iteration 96, loss = 0.00236380\n",
            "Iteration 97, loss = 0.00235758\n",
            "Iteration 98, loss = 0.00235757\n",
            "Iteration 99, loss = 0.00236297\n",
            "Iteration 100, loss = 0.00235776\n",
            "Iteration 101, loss = 0.00235257\n",
            "Iteration 102, loss = 0.00236129\n",
            "Iteration 103, loss = 0.00235434\n",
            "Iteration 104, loss = 0.00235321\n",
            "Iteration 105, loss = 0.00235700\n",
            "Iteration 106, loss = 0.00235470\n",
            "Iteration 107, loss = 0.00235074\n",
            "Iteration 108, loss = 0.00235899\n",
            "Iteration 109, loss = 0.00235283\n",
            "Iteration 110, loss = 0.00235131\n",
            "Iteration 111, loss = 0.00235718\n",
            "Iteration 112, loss = 0.00235907\n",
            "Iteration 113, loss = 0.00235402\n",
            "Iteration 114, loss = 0.00235169\n",
            "Iteration 115, loss = 0.00236254\n",
            "Iteration 116, loss = 0.00235396\n",
            "Iteration 117, loss = 0.00235695\n",
            "Iteration 118, loss = 0.00234717\n",
            "Iteration 119, loss = 0.00235671\n",
            "Iteration 120, loss = 0.00235932\n",
            "Iteration 121, loss = 0.00235854\n",
            "Iteration 122, loss = 0.00235102\n",
            "Iteration 123, loss = 0.00234925\n",
            "Iteration 124, loss = 0.00235314\n",
            "Iteration 125, loss = 0.00235210\n",
            "Iteration 126, loss = 0.00235265\n",
            "Iteration 127, loss = 0.00236386\n",
            "Iteration 128, loss = 0.00234566\n",
            "Iteration 129, loss = 0.00234468\n",
            "Iteration 130, loss = 0.00234740\n",
            "Iteration 131, loss = 0.00235155\n",
            "Iteration 132, loss = 0.00234892\n",
            "Iteration 133, loss = 0.00235773\n",
            "Iteration 134, loss = 0.00234679\n",
            "Iteration 135, loss = 0.00234951\n",
            "Iteration 136, loss = 0.00235075\n",
            "Iteration 137, loss = 0.00235004\n",
            "Iteration 138, loss = 0.00234736\n",
            "Iteration 139, loss = 0.00235105\n",
            "Iteration 140, loss = 0.00234623\n",
            "Iteration 141, loss = 0.00234981\n",
            "Iteration 142, loss = 0.00234363\n",
            "Iteration 143, loss = 0.00234672\n",
            "Iteration 144, loss = 0.00235202\n",
            "Iteration 145, loss = 0.00235231\n",
            "Iteration 146, loss = 0.00233761\n",
            "Iteration 147, loss = 0.00234935\n",
            "Iteration 148, loss = 0.00234856\n",
            "Iteration 149, loss = 0.00234225\n",
            "Iteration 150, loss = 0.00234217\n",
            "Iteration 151, loss = 0.00235774\n",
            "Iteration 152, loss = 0.00235455\n",
            "Iteration 153, loss = 0.00234000\n",
            "Iteration 154, loss = 0.00233841\n",
            "Iteration 155, loss = 0.00234041\n",
            "Iteration 156, loss = 0.00234446\n",
            "Iteration 157, loss = 0.00234124\n",
            "Iteration 158, loss = 0.00233930\n",
            "Iteration 159, loss = 0.00234301\n",
            "Iteration 160, loss = 0.00234391\n",
            "Iteration 161, loss = 0.00233964\n",
            "Iteration 162, loss = 0.00233998\n",
            "Iteration 163, loss = 0.00234665\n",
            "Iteration 164, loss = 0.00234133\n",
            "Iteration 165, loss = 0.00233945\n",
            "Iteration 166, loss = 0.00234091\n",
            "Iteration 167, loss = 0.00233798\n",
            "Iteration 168, loss = 0.00235197\n",
            "Iteration 169, loss = 0.00234194\n",
            "Iteration 170, loss = 0.00233830\n",
            "Iteration 171, loss = 0.00234420\n",
            "Iteration 172, loss = 0.00234805\n",
            "Iteration 173, loss = 0.00234023\n",
            "Iteration 174, loss = 0.00233895\n",
            "Iteration 175, loss = 0.00234266\n",
            "Iteration 176, loss = 0.00234801\n",
            "Iteration 177, loss = 0.00234051\n",
            "Iteration 178, loss = 0.00233520\n",
            "Iteration 179, loss = 0.00233940\n",
            "Iteration 180, loss = 0.00234200\n",
            "Iteration 181, loss = 0.00234311\n",
            "Iteration 182, loss = 0.00233963\n",
            "Iteration 183, loss = 0.00234214\n",
            "Iteration 184, loss = 0.00234191\n",
            "Iteration 185, loss = 0.00234696\n",
            "Iteration 186, loss = 0.00233741\n",
            "Iteration 187, loss = 0.00234221\n",
            "Iteration 188, loss = 0.00233783\n",
            "Iteration 189, loss = 0.00233974\n",
            "Iteration 190, loss = 0.00234259\n",
            "Iteration 191, loss = 0.00233706\n",
            "Iteration 192, loss = 0.00234922\n",
            "Iteration 193, loss = 0.00234079\n",
            "Iteration 194, loss = 0.00233731\n",
            "Iteration 195, loss = 0.00234069\n",
            "Iteration 196, loss = 0.00233972\n",
            "Iteration 197, loss = 0.00233625\n",
            "Iteration 198, loss = 0.00234440\n",
            "Iteration 199, loss = 0.00234283\n",
            "Iteration 200, loss = 0.00235179\n",
            "Iteration 201, loss = 0.00233494\n",
            "Iteration 202, loss = 0.00234148\n",
            "Iteration 203, loss = 0.00233668\n",
            "Iteration 204, loss = 0.00233845\n",
            "Iteration 205, loss = 0.00233720\n",
            "Iteration 206, loss = 0.00233941\n",
            "Iteration 207, loss = 0.00234511\n",
            "Iteration 208, loss = 0.00233822\n",
            "Iteration 209, loss = 0.00234441\n",
            "Iteration 210, loss = 0.00234133\n",
            "Iteration 211, loss = 0.00233968\n",
            "Iteration 212, loss = 0.00233727\n",
            "Iteration 213, loss = 0.00233588\n",
            "Iteration 214, loss = 0.00233490\n",
            "Iteration 215, loss = 0.00234202\n",
            "Iteration 216, loss = 0.00234116\n",
            "Iteration 217, loss = 0.00233977\n",
            "Iteration 218, loss = 0.00233696\n",
            "Iteration 219, loss = 0.00233730\n",
            "Iteration 220, loss = 0.00234635\n",
            "Iteration 221, loss = 0.00233502\n",
            "Iteration 222, loss = 0.00234137\n",
            "Iteration 223, loss = 0.00233900\n",
            "Iteration 224, loss = 0.00233734\n",
            "Iteration 225, loss = 0.00234197\n",
            "Iteration 226, loss = 0.00233826\n",
            "Iteration 227, loss = 0.00233686\n",
            "Iteration 228, loss = 0.00233865\n",
            "Iteration 229, loss = 0.00233994\n",
            "Iteration 230, loss = 0.00234384\n",
            "Iteration 231, loss = 0.00233475\n",
            "Iteration 232, loss = 0.00233844\n",
            "Iteration 233, loss = 0.00233247\n",
            "Iteration 234, loss = 0.00233858\n",
            "Iteration 235, loss = 0.00233813\n",
            "Iteration 236, loss = 0.00233454\n",
            "Iteration 237, loss = 0.00233241\n",
            "Iteration 238, loss = 0.00233575\n",
            "Iteration 239, loss = 0.00233824\n",
            "Iteration 240, loss = 0.00233996\n",
            "Iteration 241, loss = 0.00233705\n",
            "Iteration 242, loss = 0.00233958\n",
            "Iteration 243, loss = 0.00233844\n",
            "Iteration 244, loss = 0.00233629\n",
            "Iteration 245, loss = 0.00233548\n",
            "Iteration 246, loss = 0.00233558\n",
            "Iteration 247, loss = 0.00233720\n",
            "Iteration 248, loss = 0.00233471\n",
            "Iteration 249, loss = 0.00234091\n",
            "Iteration 250, loss = 0.00233835\n",
            "Iteration 251, loss = 0.00233782\n",
            "Iteration 252, loss = 0.00234336\n",
            "Iteration 253, loss = 0.00233500\n",
            "Iteration 254, loss = 0.00233445\n",
            "Iteration 255, loss = 0.00233801\n",
            "Iteration 256, loss = 0.00233513\n",
            "Iteration 257, loss = 0.00233555\n",
            "Iteration 258, loss = 0.00233579\n",
            "Iteration 259, loss = 0.00233512\n",
            "Iteration 260, loss = 0.00234136\n",
            "Iteration 261, loss = 0.00234095\n",
            "Iteration 262, loss = 0.00233795\n",
            "Iteration 263, loss = 0.00233303\n",
            "Iteration 264, loss = 0.00233302\n",
            "Iteration 265, loss = 0.00233714\n",
            "Iteration 266, loss = 0.00233024\n",
            "Iteration 267, loss = 0.00233609\n",
            "Iteration 268, loss = 0.00234258\n",
            "Iteration 269, loss = 0.00234049\n",
            "Iteration 270, loss = 0.00233668\n",
            "Iteration 271, loss = 0.00233286\n",
            "Iteration 272, loss = 0.00234519\n",
            "Iteration 273, loss = 0.00233119\n",
            "Iteration 274, loss = 0.00233326\n",
            "Iteration 275, loss = 0.00233797\n",
            "Iteration 276, loss = 0.00233605\n",
            "Iteration 277, loss = 0.00233240\n",
            "Iteration 278, loss = 0.00233865\n",
            "Iteration 279, loss = 0.00232930\n",
            "Iteration 280, loss = 0.00232928\n",
            "Iteration 281, loss = 0.00233885\n",
            "Iteration 282, loss = 0.00233376\n",
            "Iteration 283, loss = 0.00232913\n",
            "Iteration 284, loss = 0.00232822\n",
            "Iteration 285, loss = 0.00232939\n",
            "Iteration 286, loss = 0.00232610\n",
            "Iteration 287, loss = 0.00232248\n",
            "Iteration 288, loss = 0.00233781\n",
            "Iteration 289, loss = 0.00232459\n",
            "Iteration 290, loss = 0.00232345\n",
            "Iteration 291, loss = 0.00232453\n",
            "Iteration 292, loss = 0.00231514\n",
            "Iteration 293, loss = 0.00231211\n",
            "Iteration 294, loss = 0.00231214\n",
            "Iteration 295, loss = 0.00230061\n",
            "Iteration 296, loss = 0.00229673\n",
            "Iteration 297, loss = 0.00229808\n",
            "Iteration 298, loss = 0.00229232\n",
            "Iteration 299, loss = 0.00228268\n",
            "Iteration 300, loss = 0.00227775\n"
          ],
          "name": "stdout"
        }
      ]
    },
    {
      "cell_type": "code",
      "metadata": {
        "id": "uMVLMYKg6C3h"
      },
      "source": [
        "nn_model_predictions = nn_model.predict(x_test)"
      ],
      "execution_count": null,
      "outputs": []
    },
    {
      "cell_type": "code",
      "metadata": {
        "colab": {
          "base_uri": "https://localhost:8080/",
          "height": 330
        },
        "id": "Q6TxphEJ6C0D",
        "outputId": "8d776d02-da49-40b4-f753-e1114d26bd7f"
      },
      "source": [
        "nn_model_metrics = view_metrics(y_test, nn_model_predictions,'Neural Network Regression Model', samples = 50, total_samples=2000)"
      ],
      "execution_count": null,
      "outputs": [
        {
          "output_type": "display_data",
          "data": {
            "image/png": "[encoded data removed]",
            "text/plain": [
              "<Figure size 1296x360 with 1 Axes>"
            ]
          },
          "metadata": {
            "tags": [],
            "needs_background": "light"
          }
        },
        {
          "output_type": "stream",
          "text": [
            "Root Mean Squared Error: [0.06872917]\n",
            "Mean Absolute Error [0.05241228]\n",
            "Mean Absolute Percentage Error [11.45221891]\n"
          ],
          "name": "stdout"
        }
      ]
    },
    {
      "cell_type": "markdown",
      "metadata": {
        "id": "HK5OhkfGMQtx"
      },
      "source": [
        "## Comparing model performances"
      ]
    },
    {
      "cell_type": "code",
      "metadata": {
        "colab": {
          "base_uri": "https://localhost:8080/"
        },
        "id": "rj1RSQitkms1",
        "outputId": "13f7e4e7-d3b2-4137-f101-15fa8e60f083"
      },
      "source": [
        "print(\"%10s | %7s | %7s | %7s\" % ('MODEL', 'RMSE', 'MAE', 'MAPE'))\n",
        "print('___________________________________________')\n",
        "for name,metrics in zip(['LIN_REG','RAND_FRST','NN'],[lin_reg_model_metrics, rand_forest_model_metrics, nn_model_metrics]):\n",
        "    print (\"%10s | %.5f | %.5f | %.5f %%\" % (name, metrics[0][0], metrics[1][0], metrics[2][0]))\n",
        "print()\n",
        "print('Note: Lower values are better')"
      ],
      "execution_count": null,
      "outputs": [
        {
          "output_type": "stream",
          "text": [
            "     MODEL |    RMSE |     MAE |    MAPE\n",
            "___________________________________________\n",
            "   LIN_REG | 0.07663 | 0.05917 | 13.01890 %\n",
            " RAND_FRST | 0.07043 | 0.05413 | 11.96285 %\n",
            "        NN | 0.06873 | 0.05241 | 11.45222 %\n",
            "\n",
            "Note: Lower values are better\n"
          ],
          "name": "stdout"
        }
      ]
    },
    {
      "cell_type": "markdown",
      "metadata": {
        "id": "Xh1y1Ka-n7t4"
      },
      "source": [
        "## Predicting interest rates\n"
      ]
    },
    {
      "cell_type": "code",
      "metadata": {
        "id": "2hpl5c7eoA8J"
      },
      "source": [
        "def get_interest_rate(model, features):\n",
        "    return (model.predict(features))*(max_rate-min_rate) + min_rate"
      ],
      "execution_count": null,
      "outputs": []
    },
    {
      "cell_type": "code",
      "metadata": {
        "colab": {
          "base_uri": "https://localhost:8080/",
          "height": 130
        },
        "id": "G8pZNxpKoGEd",
        "outputId": "fd475da1-6c55-447b-b192-3a29afa6a689"
      },
      "source": [
        "sample = x_test[2:3] # substitute with the input you want to predict the rate for\n",
        "interest_rate = get_interest_rate(rand_forest_model, sample)\n",
        "print('Predicted interest rate is:', interest_rate)\n",
        "print('for the following user profile:')\n",
        "sample"
      ],
      "execution_count": null,
      "outputs": [
        {
          "output_type": "stream",
          "text": [
            "Predicted interest rate is: [4.10737877]\n",
            "for the following user profile:\n"
          ],
          "name": "stdout"
        },
        {
          "output_type": "execute_result",
          "data": {
            "text/html": [
              "<div>\n",
              "<style scoped>\n",
              "    .dataframe tbody tr th:only-of-type {\n",
              "        vertical-align: middle;\n",
              "    }\n",
              "\n",
              "    .dataframe tbody tr th {\n",
              "        vertical-align: top;\n",
              "    }\n",
              "\n",
              "    .dataframe thead th {\n",
              "        text-align: right;\n",
              "    }\n",
              "</style>\n",
              "<table border=\"1\" class=\"dataframe\">\n",
              "  <thead>\n",
              "    <tr style=\"text-align: right;\">\n",
              "      <th></th>\n",
              "      <th>0</th>\n",
              "      <th>1</th>\n",
              "      <th>2</th>\n",
              "      <th>3</th>\n",
              "      <th>4</th>\n",
              "      <th>5</th>\n",
              "      <th>6</th>\n",
              "      <th>7</th>\n",
              "      <th>8</th>\n",
              "      <th>9</th>\n",
              "      <th>10</th>\n",
              "      <th>11</th>\n",
              "      <th>13</th>\n",
              "      <th>14</th>\n",
              "      <th>16</th>\n",
              "      <th>17</th>\n",
              "      <th>18</th>\n",
              "      <th>19</th>\n",
              "      <th>20</th>\n",
              "      <th>21</th>\n",
              "      <th>22</th>\n",
              "      <th>23</th>\n",
              "      <th>24</th>\n",
              "    </tr>\n",
              "  </thead>\n",
              "  <tbody>\n",
              "    <tr>\n",
              "      <th>47408</th>\n",
              "      <td>0.879859</td>\n",
              "      <td>0.925926</td>\n",
              "      <td>0.5</td>\n",
              "      <td>0.996529</td>\n",
              "      <td>0.358276</td>\n",
              "      <td>0.0</td>\n",
              "      <td>0.0</td>\n",
              "      <td>0.0</td>\n",
              "      <td>0.040282</td>\n",
              "      <td>0.048096</td>\n",
              "      <td>0.115789</td>\n",
              "      <td>0.040282</td>\n",
              "      <td>1.0</td>\n",
              "      <td>0.0</td>\n",
              "      <td>0.09434</td>\n",
              "      <td>0.0</td>\n",
              "      <td>0.808661</td>\n",
              "      <td>0.948179</td>\n",
              "      <td>0.5</td>\n",
              "      <td>1.0</td>\n",
              "      <td>0.0</td>\n",
              "      <td>0.576923</td>\n",
              "      <td>0.741935</td>\n",
              "    </tr>\n",
              "  </tbody>\n",
              "</table>\n",
              "</div>"
            ],
            "text/plain": [
              "             0         1    2         3   ...   21   22        23        24\n",
              "47408  0.879859  0.925926  0.5  0.996529  ...  1.0  0.0  0.576923  0.741935\n",
              "\n",
              "[1 rows x 23 columns]"
            ]
          },
          "metadata": {
            "tags": []
          },
          "execution_count": 36
        }
      ]
    },
    {
      "cell_type": "markdown",
      "metadata": {
        "id": "wmaNsax151LA"
      },
      "source": [
        "# 3.0 Try TPOT, AutoSKLearn and H20's Automl to see if you can improve performance. Does the model improve?"
      ]
    }
  ]
}