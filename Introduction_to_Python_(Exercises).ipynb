{
  "nbformat": 4,
  "nbformat_minor": 0,
  "metadata": {
    "colab": {
      "name": "Introduction to Python (Exercises)",
      "provenance": [],
      "collapsed_sections": [],
      "toc_visible": true,
      "include_colab_link": true
    },
    "kernelspec": {
      "display_name": "Python 3",
      "name": "python3"
    }
  },
  "cells": [
    {
      "cell_type": "markdown",
      "metadata": {
        "id": "view-in-github",
        "colab_type": "text"
      },
      "source": [
        "<a href=\"https://colab.research.google.com/github/anbalaji/datasharing/blob/master/Introduction_to_Python_(Exercises).ipynb\" target=\"_parent\"><img src=\"https://colab.research.google.com/assets/colab-badge.svg\" alt=\"Open In Colab\"/></a>"
      ]
    },
    {
      "cell_type": "markdown",
      "metadata": {
        "id": "WsEKuLoy_pdl"
      },
      "source": [
        "# Introduction to Python (Exercises)\n",
        "### Try out these exercises to reinforce your concepts\n",
        "##### Copyright 2020 QuantUniversity LLC."
      ]
    },
    {
      "cell_type": "markdown",
      "metadata": {
        "id": "fQjLUMeYWj3k"
      },
      "source": [
        ""
      ]
    },
    {
      "cell_type": "markdown",
      "metadata": {
        "id": "JyG45Qk3qQLS"
      },
      "source": [
        "## 1. Operations\n",
        "#### 1. Create two strings\n",
        "#### 2. Write a function that accepts these strings and concatenates these strings with spaces\n",
        "#### 3. Check help to see if there are other ways of concatenating strings"
      ]
    },
    {
      "cell_type": "code",
      "metadata": {
        "id": "QdFXYI3JHEs5",
        "outputId": "ae30156c-5e16-4e8d-8441-74bcfd2dfeb9",
        "colab": {
          "base_uri": "https://localhost:8080/"
        }
      },
      "source": [
        "def concatenate(string1,string2):\r\n",
        "    concat_string = string1 + string2\r\n",
        "\r\n",
        "string_concat = \"abc\" + \"def\"\r\n",
        "print(string_concat)\r\n",
        "\r\n",
        "import string\r\n"
      ],
      "execution_count": 7,
      "outputs": [
        {
          "output_type": "stream",
          "text": [
            "abcdef\n"
          ],
          "name": "stdout"
        }
      ]
    },
    {
      "cell_type": "markdown",
      "metadata": {
        "id": "KR921S_OQSHG"
      },
      "source": [
        "## 2. Copy\n",
        "#### 1. Create a list of 4 characters and call it A\n",
        "#### 2. Add a 5th character to this list A and call it B?\n",
        "#### 3. Create a new list C that is a concatenation of the original list A and new list B\n",
        "#### 4. What does D = C[:] do?"
      ]
    },
    {
      "cell_type": "code",
      "metadata": {
        "id": "IAJsurVIQrFC",
        "outputId": "fc6d61e6-b296-47dd-d98b-4e0c239b1533",
        "colab": {
          "base_uri": "https://localhost:8080/"
        }
      },
      "source": [
        "A = ['a','b','c','d']\r\n",
        "B = []\r\n",
        "A.append('e')\r\n",
        "B.extend(A)\r\n",
        "\r\n",
        "C = A + B\r\n",
        "\r\n",
        "D = C[:]\r\n",
        "print(D)"
      ],
      "execution_count": 32,
      "outputs": [
        {
          "output_type": "stream",
          "text": [
            "['a', 'b', 'c', 'd', 'e', 'a', 'b', 'c', 'd', 'e']\n"
          ],
          "name": "stdout"
        }
      ]
    },
    {
      "cell_type": "markdown",
      "metadata": {
        "id": "Zzu_UOhv4iw-"
      },
      "source": [
        "## 3. Try out the following list operations\n",
        "Here are some other common list methods. Try them\n",
        "\n",
        "list.append(elem) -- adds a single element to the end of the list. Common error: does not return the new list, just modifies the original.\n",
        "\n",
        "list.insert(index, elem) -- inserts the element at the given index, shifting elements to the right.\n",
        "\n",
        "list.extend(list2) adds the elements in list2 to the end of the list. Using + or += on a list is similar to using extend().\n",
        "\n",
        "list.index(elem) -- searches for the given element from the start of the list and returns its index. Throws a ValueError if the element does not appear (use \"in\" to check without a ValueError).\n",
        "\n",
        "list.remove(elem) -- searches for the first instance of the given element and removes it (throws ValueError if not present)\n",
        "\n",
        "\n",
        "list.sort() -- sorts the list in place (does not return it). (The sorted() function shown later is preferred.)\n",
        "\n",
        "list.reverse() -- reverses the list in place (does not return it)\n",
        "\n",
        "list.pop(index) -- removes and returns the element at the given index. Returns the rightmost element if index is omitted (roughly the opposite of append())."
      ]
    },
    {
      "cell_type": "code",
      "metadata": {
        "id": "2ot51j02Twve",
        "outputId": "81e463e9-37f2-427f-a629-5da56dca7d82",
        "colab": {
          "base_uri": "https://localhost:8080/"
        }
      },
      "source": [
        "D = C[:]\r\n",
        "D.insert(3,'3')\r\n",
        "print(D.index('3'))\r\n",
        "D.remove('3')\r\n",
        "D.sort()\r\n",
        "D.reverse()\r\n",
        "print(D)\r\n",
        "D.pop(5)\r\n",
        "print(D)"
      ],
      "execution_count": 39,
      "outputs": [
        {
          "output_type": "stream",
          "text": [
            "3\n",
            "['e', 'e', 'd', 'd', 'c', 'c', 'b', 'b', 'a', 'a']\n",
            "['e', 'e', 'd', 'd', 'c', 'b', 'b', 'a', 'a']\n"
          ],
          "name": "stdout"
        }
      ]
    },
    {
      "cell_type": "markdown",
      "metadata": {
        "id": "mPn6eBEDAxMN"
      },
      "source": [
        "## 4. Try out different functions in the math library\n",
        "#### 1. What does log do?\n",
        "#### 2. How do you generate 10 uniform random numbers between 0-1"
      ]
    },
    {
      "cell_type": "code",
      "metadata": {
        "id": "5IKG7lzoUoFR",
        "outputId": "d0716802-c729-49fc-a15f-da833d78a967",
        "colab": {
          "base_uri": "https://localhost:8080/"
        }
      },
      "source": [
        "import math\r\n",
        "import numpy as np\r\n",
        "\r\n",
        "print(math.log(3))\r\n",
        "\r\n",
        "print(\"Generating 10 uniform random numbers\")\r\n",
        "for i in range(10):\r\n",
        "    print(np.random.uniform(0,1) )"
      ],
      "execution_count": 60,
      "outputs": [
        {
          "output_type": "stream",
          "text": [
            "1.0986122886681098\n",
            "Generating 10 uniform random numbers\n",
            "0.32316806693402367\n",
            "0.49768280614298444\n",
            "0.25527376598567486\n",
            "0.9911907697988108\n",
            "0.8760454213865431\n",
            "0.24149521800247842\n",
            "0.8241707563388542\n",
            "0.8971338455061677\n",
            "0.2427460923853264\n",
            "0.23576439534011917\n"
          ],
          "name": "stdout"
        }
      ]
    }
  ]
}